{
  "nbformat": 4,
  "nbformat_minor": 0,
  "metadata": {
    "colab": {
      "name": "day5.ipynb",
      "provenance": [],
      "collapsed_sections": [],
      "mount_file_id": "1eTComVtEI5gZStpVwcBy_ofmJRT8dlgb",
      "authorship_tag": "ABX9TyOiGxLdrmBmSxoQkwdQNGIt"
    },
    "kernelspec": {
      "name": "python3",
      "display_name": "Python 3"
    },
    "accelerator": "GPU"
  },
  "cells": [
    {
      "cell_type": "code",
      "metadata": {
        "id": "Pb_sJ9YIGGXs",
        "colab_type": "code",
        "outputId": "0c64afc5-dac5-41f3-a7a8-105dc9de64f8",
        "colab": {
          "base_uri": "https://localhost:8080/",
          "height": 190
        }
      },
      "source": [
        "!pip install hyperopt"
      ],
      "execution_count": 1,
      "outputs": [
        {
          "output_type": "stream",
          "text": [
            "Requirement already satisfied: hyperopt in /usr/local/lib/python3.6/dist-packages (0.1.2)\n",
            "Requirement already satisfied: tqdm in /usr/local/lib/python3.6/dist-packages (from hyperopt) (4.38.0)\n",
            "Requirement already satisfied: networkx in /usr/local/lib/python3.6/dist-packages (from hyperopt) (2.4)\n",
            "Requirement already satisfied: numpy in /usr/local/lib/python3.6/dist-packages (from hyperopt) (1.18.2)\n",
            "Requirement already satisfied: future in /usr/local/lib/python3.6/dist-packages (from hyperopt) (0.16.0)\n",
            "Requirement already satisfied: six in /usr/local/lib/python3.6/dist-packages (from hyperopt) (1.12.0)\n",
            "Requirement already satisfied: pymongo in /usr/local/lib/python3.6/dist-packages (from hyperopt) (3.10.1)\n",
            "Requirement already satisfied: scipy in /usr/local/lib/python3.6/dist-packages (from hyperopt) (1.4.1)\n",
            "Requirement already satisfied: decorator>=4.3.0 in /usr/local/lib/python3.6/dist-packages (from networkx->hyperopt) (4.4.2)\n"
          ],
          "name": "stdout"
        }
      ]
    },
    {
      "cell_type": "code",
      "metadata": {
        "id": "AlY3DjhcGtWw",
        "colab_type": "code",
        "colab": {}
      },
      "source": [
        "import pandas as pd\n",
        "import numpy as np\n",
        "import os\n",
        "import datetime\n",
        "\n",
        "\n",
        "import tensorflow as tf\n",
        "from tensorflow.keras.models import Sequential\n",
        "from tensorflow.keras.layers import Conv2D, MaxPool2D, Dense, Flatten, Dropout\n",
        "from tensorflow.keras.utils import to_categorical\n",
        "\n",
        "%load_ext tensorboard\n",
        "\n",
        "import matplotlib.pyplot as plt\n",
        "from skimage import color, exposure\n",
        "\n",
        "from sklearn.metrics import accuracy_score\n",
        "\n",
        "from hyperopt import hp, STATUS_OK, tpe, Trials, fmin"
      ],
      "execution_count": 0,
      "outputs": []
    },
    {
      "cell_type": "code",
      "metadata": {
        "id": "rStNOrK-G-mA",
        "colab_type": "code",
        "outputId": "5aeac9bf-3882-4cf7-c466-81e4803a0211",
        "colab": {
          "base_uri": "https://localhost:8080/",
          "height": 34
        }
      },
      "source": [
        "cd '/content/drive/My Drive/Colab Notebooks/matrix/matrix_three/dw_matrix_road_sign'"
      ],
      "execution_count": 3,
      "outputs": [
        {
          "output_type": "stream",
          "text": [
            "/content/drive/My Drive/Colab Notebooks/matrix/matrix_three/dw_matrix_road_sign\n"
          ],
          "name": "stdout"
        }
      ]
    },
    {
      "cell_type": "code",
      "metadata": {
        "id": "agqxWootHKuW",
        "colab_type": "code",
        "colab": {}
      },
      "source": [
        "train = pd.read_pickle('data/train.p')\n",
        "test = pd.read_pickle('data/test.p')\n",
        "\n",
        "X_train, y_train = train['features'], train['labels']\n",
        "X_test, y_test = test['features'], test['labels']"
      ],
      "execution_count": 0,
      "outputs": []
    },
    {
      "cell_type": "code",
      "metadata": {
        "id": "gjEZVibcHNVC",
        "colab_type": "code",
        "colab": {}
      },
      "source": [
        "if y_train.ndim == 1: y_train = to_categorical(y_train)\n",
        "if y_test.ndim == 1: y_test = to_categorical(y_test)\n",
        "\n",
        "input_shape = X_train.shape[1:]\n",
        "num_classes = y_train.shape[1]"
      ],
      "execution_count": 0,
      "outputs": []
    },
    {
      "cell_type": "code",
      "metadata": {
        "id": "kysYTlGPHQtm",
        "colab_type": "code",
        "colab": {}
      },
      "source": [
        "def train_model(model, X_train, y_train, params_fit={}):\n",
        "  model.compile(loss='categorical_crossentropy', optimizer='Adam', metrics=['accuracy'])\n",
        "  \n",
        "  logdir = os.path.join(\"logs\", datetime.datetime.now().strftime(\"%Y%m%d-%H%M%S\"))\n",
        "  tensorboard_callback = tf.keras.callbacks.TensorBoard(logdir, histogram_freq=1)\n",
        "\n",
        "  model.fit(\n",
        "      X_train,\n",
        "      y_train,\n",
        "      batch_size=params_fit.get('batch_size, 128'),\n",
        "      epochs=params_fit.get('epochs',5),\n",
        "      verbose=params_fit.get('verbose', 1),\n",
        "      validation_data=params_fit.get('validation_data', (X_train, y_train)),\n",
        "      callbacks=[tensorboard_callback]\n",
        "    )\n",
        "  \n",
        "  return model\n",
        "\n",
        "def predict(model_trained, X_test, y_test, scoring=accuracy_score):\n",
        "\n",
        "\n",
        "  y_test_norm = np.argmax(y_test, axis=1)\n",
        "\n",
        "  y_pred_prob = model_trained.predict(X_test)\n",
        "  y_pred = np.argmax(y_pred_prob, axis=1)\n",
        "\n",
        "  return scoring(y_test_norm, y_pred)"
      ],
      "execution_count": 0,
      "outputs": []
    },
    {
      "cell_type": "code",
      "metadata": {
        "id": "3VXsKB_NHy8q",
        "colab_type": "code",
        "colab": {
          "base_uri": "https://localhost:8080/",
          "height": 34
        },
        "outputId": "d56ae8a0-0c1e-4dcb-bda8-cf3645d51272"
      },
      "source": [
        "def get_cnn_v5(input_shape, num_classes):\n",
        "  return Sequential([\n",
        "    Conv2D(filters = 32, kernel_size=(3,3), activation='relu', input_shape=input_shape),\n",
        "    Conv2D(filters = 32, kernel_size=(3,3), activation='relu', padding='same'),\n",
        "    Conv2D(filters = 32, kernel_size=(3,3), activation='relu', padding='same'),\n",
        "    MaxPool2D(),\n",
        "    Dropout(0.3),\n",
        "\n",
        "    Conv2D(filters = 64, kernel_size=(3,3), activation='relu', padding='same'),\n",
        "    Conv2D(filters = 64, kernel_size=(3,3), activation='relu', padding='same'),\n",
        "    Conv2D(filters = 64, kernel_size=(3,3), activation='relu'),\n",
        "    MaxPool2D(),\n",
        "    Dropout(0.3),\n",
        "\n",
        "    Conv2D(filters = 128, kernel_size=(3,3), activation='relu', padding='same'),\n",
        "    Conv2D(filters = 128, kernel_size=(3,3), activation='relu', padding='same'),\n",
        "    Conv2D(filters = 128, kernel_size=(3,3), activation='relu'),\n",
        "    MaxPool2D(),\n",
        "    Dropout(0.3),\n",
        "\n",
        "    Flatten(),\n",
        "\n",
        "    Dense(1024, activation='relu'),\n",
        "    Dropout(0.3),\n",
        "\n",
        "    Dense(1024, activation='relu'),\n",
        "    Dropout(0.3),\n",
        "\n",
        "    Dense(num_classes, activation='softmax')\n",
        "  ])"
      ],
      "execution_count": 15,
      "outputs": [
        {
          "output_type": "stream",
          "text": [
            "ERROR! Session/line number was not unique in database. History logging moved to new session 60\n"
          ],
          "name": "stdout"
        }
      ]
    },
    {
      "cell_type": "code",
      "metadata": {
        "id": "jJntTSafH4bk",
        "colab_type": "code",
        "outputId": "1a60a600-10ee-4e89-f8f9-dd66c5285fd9",
        "colab": {
          "base_uri": "https://localhost:8080/",
          "height": 241
        }
      },
      "source": [
        "model = get_cnn_v5(input_shape, num_classes)\n",
        "model_trained = train_model(model, X_train, y_train)\n",
        "predict(model_trained, X_test, y_test)"
      ],
      "execution_count": 16,
      "outputs": [
        {
          "output_type": "stream",
          "text": [
            "Epoch 1/5\n",
            "   2/1088 [..............................] - ETA: 14:06 - loss: 6.9534 - accuracy: 0.0000e+00WARNING:tensorflow:Method (on_train_batch_end) is slow compared to the batch update (0.774746). Check your callbacks.\n",
            "1088/1088 [==============================] - 13s 12ms/step - loss: 1.5129 - accuracy: 0.5534 - val_loss: 0.3692 - val_accuracy: 0.8833\n",
            "Epoch 2/5\n",
            "1088/1088 [==============================] - 11s 10ms/step - loss: 0.3684 - accuracy: 0.8905 - val_loss: 0.1985 - val_accuracy: 0.9408\n",
            "Epoch 3/5\n",
            "1088/1088 [==============================] - 11s 10ms/step - loss: 0.2485 - accuracy: 0.9316 - val_loss: 0.0693 - val_accuracy: 0.9814\n",
            "Epoch 4/5\n",
            "1088/1088 [==============================] - 11s 10ms/step - loss: 0.2069 - accuracy: 0.9468 - val_loss: 0.0863 - val_accuracy: 0.9765\n",
            "Epoch 5/5\n",
            "1088/1088 [==============================] - 11s 10ms/step - loss: 0.2220 - accuracy: 0.9442 - val_loss: 0.0465 - val_accuracy: 0.9878\n"
          ],
          "name": "stdout"
        },
        {
          "output_type": "execute_result",
          "data": {
            "text/plain": [
              "0.9684807256235828"
            ]
          },
          "metadata": {
            "tags": []
          },
          "execution_count": 16
        }
      ]
    },
    {
      "cell_type": "code",
      "metadata": {
        "id": "5Rj28v8FI9oQ",
        "colab_type": "code",
        "outputId": "aa66d73a-cb48-4012-da10-3d24bc96113f",
        "colab": {
          "base_uri": "https://localhost:8080/",
          "height": 51
        }
      },
      "source": [
        "model_trained.evaluate(X_test, y_test)[1]"
      ],
      "execution_count": 11,
      "outputs": [
        {
          "output_type": "stream",
          "text": [
            "138/138 [==============================] - 0s 3ms/step - loss: 0.1716 - accuracy: 0.9576\n"
          ],
          "name": "stdout"
        },
        {
          "output_type": "execute_result",
          "data": {
            "text/plain": [
              "0.9575963616371155"
            ]
          },
          "metadata": {
            "tags": []
          },
          "execution_count": 11
        }
      ]
    },
    {
      "cell_type": "code",
      "metadata": {
        "id": "7vIDM9zUMuav",
        "colab_type": "code",
        "colab": {}
      },
      "source": [
        "def get_model(params):\n",
        "  return Sequential([\n",
        "    Conv2D(filters = 32, kernel_size=(3,3), activation='relu', input_shape=input_shape),\n",
        "    Conv2D(filters = 32, kernel_size=(3,3), activation='relu', padding='same'),\n",
        "    MaxPool2D(),\n",
        "    Dropout(params['dropout_cnn_block_one']),\n",
        "\n",
        "    Conv2D(filters = 64, kernel_size=(3,3), activation='relu', padding='same'),\n",
        "    Conv2D(filters = 64, kernel_size=(3,3), activation='relu'),\n",
        "    MaxPool2D(),\n",
        "    Dropout(params['dropout_cnn_block_two']),\n",
        "\n",
        "    Conv2D(filters = 128, kernel_size=(3,3), activation='relu', padding='same'),\n",
        "    Conv2D(filters = 128, kernel_size=(3,3), activation='relu'),\n",
        "    MaxPool2D(),\n",
        "    Dropout(params['dropout_cnn_block_three']),\n",
        "\n",
        "    Flatten(),\n",
        "\n",
        "    Dense(1024, activation='relu'),\n",
        "    Dropout(params['dropout_dense_block_one']),\n",
        "\n",
        "    Dense(1024, activation='relu'),\n",
        "    Dropout(params['dropout_dense_block_two']),\n",
        "\n",
        "    Dense(num_classes, activation='softmax')\n",
        "  ])"
      ],
      "execution_count": 0,
      "outputs": []
    },
    {
      "cell_type": "code",
      "metadata": {
        "id": "pksGwjpYIFj5",
        "colab_type": "code",
        "colab": {}
      },
      "source": [
        "def func_obj(params):\n",
        "  model = get_model(params)\n",
        "  model.compile(loss='categorical_crossentropy', optimizer='Adam', metrics=['accuracy'])\n",
        "\n",
        "  model.fit(\n",
        "      X_train,\n",
        "      y_train,\n",
        "      batch_size=int(params.get('batch_size', 128)),\n",
        "      epochs=5,\n",
        "      verbose=0\n",
        "   )\n",
        "  \n",
        "  score = model.evaluate(X_test, y_test, verbose=0)\n",
        "  accuracy = score[1]\n",
        "  print(params, 'accuracy={}'.format(accuracy))\n",
        "\n",
        "  return {'loss': -accuracy, 'status': STATUS_OK, 'model': model}"
      ],
      "execution_count": 0,
      "outputs": []
    },
    {
      "cell_type": "code",
      "metadata": {
        "id": "tDhMszVbJ27E",
        "colab_type": "code",
        "outputId": "86ba03df-9a48-4b22-ed5b-651891b70ff3",
        "colab": {
          "base_uri": "https://localhost:8080/",
          "height": 1000
        }
      },
      "source": [
        "space = {\n",
        "    'batch_size': hp.quniform('batch_size', 100,200,10),\n",
        "    'dropout_cnn_block_one': hp.uniform('dropout_cnn_block_one', 0.3,0.5),\n",
        "    'dropout_cnn_block_two': hp.uniform('dropout_cnn_block_two', 0.3,0.5),\n",
        "    'dropout_cnn_block_three': hp.uniform('dropout_cnn_block_three', 0.3,0.5),\n",
        "\n",
        "    'dropout_dense_block_one': hp.uniform('dropout_dense_block_one', 0.3,0.7),\n",
        "    'dropout_dense_block_two': hp.uniform('dropout_dense_block_two', 0.3,0.7),\n",
        "}\n",
        "\n",
        "best = fmin(\n",
        "    func_obj,\n",
        "    space,\n",
        "    tpe.suggest,\n",
        "    30,\n",
        "    Trials()\n",
        ")"
      ],
      "execution_count": 14,
      "outputs": [
        {
          "output_type": "stream",
          "text": [
            "{'batch_size': 160.0, 'dropout_cnn_block_one': 0.39219745262507355, 'dropout_cnn_block_three': 0.3419638471256517, 'dropout_cnn_block_two': 0.4636720026761296, 'dropout_dense_block_one': 0.6129903624009669, 'dropout_dense_block_two': 0.6983795064900751}\n",
            "accuracy=0.7641723155975342\n",
            "{'batch_size': 130.0, 'dropout_cnn_block_one': 0.421585813283002, 'dropout_cnn_block_three': 0.4006627787729139, 'dropout_cnn_block_two': 0.35947674068540675, 'dropout_dense_block_one': 0.5548708592178351, 'dropout_dense_block_two': 0.5918836009824993}\n",
            "accuracy=0.9095237851142883\n",
            "{'batch_size': 190.0, 'dropout_cnn_block_one': 0.31174447026592433, 'dropout_cnn_block_three': 0.46023352093183534, 'dropout_cnn_block_two': 0.4165662912334577, 'dropout_dense_block_one': 0.32381055607769954, 'dropout_dense_block_two': 0.3403747699351334}\n",
            "accuracy=0.9639455676078796\n",
            "{'batch_size': 110.0, 'dropout_cnn_block_one': 0.3223960476560546, 'dropout_cnn_block_three': 0.4422065979990152, 'dropout_cnn_block_two': 0.399846875887659, 'dropout_dense_block_one': 0.613207408509562, 'dropout_dense_block_two': 0.37805876836496916}\n",
            "accuracy=0.9530612230300903\n",
            "{'batch_size': 180.0, 'dropout_cnn_block_one': 0.3426403295306141, 'dropout_cnn_block_three': 0.3548858212403476, 'dropout_cnn_block_two': 0.4163811344971287, 'dropout_dense_block_one': 0.5874054599849872, 'dropout_dense_block_two': 0.49157866107279946}\n",
            "accuracy=0.9061224460601807\n",
            "{'batch_size': 120.0, 'dropout_cnn_block_one': 0.3470001528950739, 'dropout_cnn_block_three': 0.39509646315585245, 'dropout_cnn_block_two': 0.4347323209742232, 'dropout_dense_block_one': 0.48964843014370485, 'dropout_dense_block_two': 0.6531157352694328}\n",
            "accuracy=0.9321995377540588\n",
            "{'batch_size': 140.0, 'dropout_cnn_block_one': 0.30408540604108947, 'dropout_cnn_block_three': 0.44539370647598553, 'dropout_cnn_block_two': 0.38046558231376837, 'dropout_dense_block_one': 0.3377360990845756, 'dropout_dense_block_two': 0.30014837474952355}\n",
            "accuracy=0.9700680375099182\n",
            "{'batch_size': 120.0, 'dropout_cnn_block_one': 0.34817616357038683, 'dropout_cnn_block_three': 0.3259492048434481, 'dropout_cnn_block_two': 0.48796341182072267, 'dropout_dense_block_one': 0.41278611276960697, 'dropout_dense_block_two': 0.3199941834776771}\n",
            "accuracy=0.961904764175415\n",
            "{'batch_size': 180.0, 'dropout_cnn_block_one': 0.37498353823307484, 'dropout_cnn_block_three': 0.3900369698727509, 'dropout_cnn_block_two': 0.36714770144390885, 'dropout_dense_block_one': 0.5954232057459536, 'dropout_dense_block_two': 0.5556805901175644}\n",
            "accuracy=0.9462584853172302\n",
            "{'batch_size': 170.0, 'dropout_cnn_block_one': 0.4795855192752447, 'dropout_cnn_block_three': 0.4648352095685726, 'dropout_cnn_block_two': 0.42642542598019495, 'dropout_dense_block_one': 0.6801719939533151, 'dropout_dense_block_two': 0.5374507954111958}\n",
            "accuracy=0.5453514456748962\n",
            "{'batch_size': 100.0, 'dropout_cnn_block_one': 0.38902325694800255, 'dropout_cnn_block_three': 0.49863817997355975, 'dropout_cnn_block_two': 0.3963997593286014, 'dropout_dense_block_one': 0.5164401901647142, 'dropout_dense_block_two': 0.4869059138342634}\n",
            "accuracy=0.7986394762992859\n",
            "{'batch_size': 180.0, 'dropout_cnn_block_one': 0.40439549185456597, 'dropout_cnn_block_three': 0.4085034313713158, 'dropout_cnn_block_two': 0.3570998988125383, 'dropout_dense_block_one': 0.33056472885982097, 'dropout_dense_block_two': 0.6106466557149663}\n",
            "accuracy=0.9607709646224976\n",
            "{'batch_size': 120.0, 'dropout_cnn_block_one': 0.3698895246846001, 'dropout_cnn_block_three': 0.3146352916825061, 'dropout_cnn_block_two': 0.4890042354372825, 'dropout_dense_block_one': 0.49949255013076194, 'dropout_dense_block_two': 0.38404717031276353}\n",
            "accuracy=0.91700679063797\n",
            "{'batch_size': 110.0, 'dropout_cnn_block_one': 0.41110716905197525, 'dropout_cnn_block_three': 0.45860488357757206, 'dropout_cnn_block_two': 0.3331589332366175, 'dropout_dense_block_one': 0.49353936817953314, 'dropout_dense_block_two': 0.5683883838521282}\n",
            "accuracy=0.9501133561134338\n",
            "{'batch_size': 180.0, 'dropout_cnn_block_one': 0.45545931522061317, 'dropout_cnn_block_three': 0.33620272777576254, 'dropout_cnn_block_two': 0.34888556579895286, 'dropout_dense_block_one': 0.45633977890231414, 'dropout_dense_block_two': 0.6415233334614721}\n",
            "accuracy=0.7258503437042236\n",
            "{'batch_size': 190.0, 'dropout_cnn_block_one': 0.42627957176155595, 'dropout_cnn_block_three': 0.43393221517816727, 'dropout_cnn_block_two': 0.4617700321897442, 'dropout_dense_block_one': 0.3627923419240643, 'dropout_dense_block_two': 0.31499950214674083}\n",
            "accuracy=0.9501133561134338\n",
            "{'batch_size': 130.0, 'dropout_cnn_block_one': 0.48303435732581007, 'dropout_cnn_block_three': 0.3023505021522928, 'dropout_cnn_block_two': 0.438832495214158, 'dropout_dense_block_one': 0.4093096733111234, 'dropout_dense_block_two': 0.48155377848044517}\n",
            "accuracy=0.9197278618812561\n",
            "{'batch_size': 170.0, 'dropout_cnn_block_one': 0.3867770155553932, 'dropout_cnn_block_three': 0.406427175747795, 'dropout_cnn_block_two': 0.4457500539066605, 'dropout_dense_block_one': 0.3110800357679714, 'dropout_dense_block_two': 0.5811095756993074}\n",
            "accuracy=0.9437641501426697\n",
            "{'batch_size': 120.0, 'dropout_cnn_block_one': 0.43117521237646494, 'dropout_cnn_block_three': 0.43469815929171884, 'dropout_cnn_block_two': 0.32635411552958954, 'dropout_dense_block_one': 0.39236649181316174, 'dropout_dense_block_two': 0.6108241785674211}\n",
            "accuracy=0.9448979496955872\n",
            "{'batch_size': 120.0, 'dropout_cnn_block_one': 0.3022411559979353, 'dropout_cnn_block_three': 0.4643185818211953, 'dropout_cnn_block_two': 0.4316825317468992, 'dropout_dense_block_one': 0.48896653512902977, 'dropout_dense_block_two': 0.5766491900637576}\n",
            "accuracy=0.9530612230300903\n",
            "{'batch_size': 150.0, 'dropout_cnn_block_one': 0.3064180260433846, 'dropout_cnn_block_three': 0.49435575744771143, 'dropout_cnn_block_two': 0.38133839606843806, 'dropout_dense_block_one': 0.30635229700740063, 'dropout_dense_block_two': 0.37420917971810086}\n",
            "accuracy=0.9535147547721863\n",
            "{'batch_size': 200.0, 'dropout_cnn_block_one': 0.31811564330323555, 'dropout_cnn_block_three': 0.48361975187810935, 'dropout_cnn_block_two': 0.3836442309678586, 'dropout_dense_block_one': 0.3524985078834225, 'dropout_dense_block_two': 0.43052230818028087}\n",
            "accuracy=0.9442176818847656\n",
            "{'batch_size': 140.0, 'dropout_cnn_block_one': 0.329785378720725, 'dropout_cnn_block_three': 0.48012425484887056, 'dropout_cnn_block_two': 0.4086184142441932, 'dropout_dense_block_one': 0.4356528757784679, 'dropout_dense_block_two': 0.3026472311887254}\n",
            "accuracy=0.9612244963645935\n",
            "{'batch_size': 150.0, 'dropout_cnn_block_one': 0.3004712179962399, 'dropout_cnn_block_three': 0.4255917504553703, 'dropout_cnn_block_two': 0.3072094917991471, 'dropout_dense_block_one': 0.3694639903333278, 'dropout_dense_block_two': 0.34699282618270266}\n",
            "accuracy=0.9609977602958679\n",
            "{'batch_size': 140.0, 'dropout_cnn_block_one': 0.36148958578562385, 'dropout_cnn_block_three': 0.3688008708069568, 'dropout_cnn_block_two': 0.3806925911422092, 'dropout_dense_block_one': 0.33209795235997114, 'dropout_dense_block_two': 0.4322760369352903}\n",
            "accuracy=0.9591836929321289\n",
            "{'batch_size': 200.0, 'dropout_cnn_block_one': 0.3320273192669244, 'dropout_cnn_block_three': 0.4544473429908913, 'dropout_cnn_block_two': 0.4683564093631198, 'dropout_dense_block_one': 0.3072154569414276, 'dropout_dense_block_two': 0.4446937346865805}\n",
            "accuracy=0.9181405901908875\n",
            "{'batch_size': 160.0, 'dropout_cnn_block_one': 0.3120649582999343, 'dropout_cnn_block_three': 0.42052949928509636, 'dropout_cnn_block_two': 0.4141550999803712, 'dropout_dense_block_one': 0.6764118407911192, 'dropout_dense_block_two': 0.3440902370045222}\n",
            "accuracy=0.9324263334274292\n",
            "{'batch_size': 140.0, 'dropout_cnn_block_one': 0.3576217091268714, 'dropout_cnn_block_three': 0.47630872686988823, 'dropout_cnn_block_two': 0.3385911692532678, 'dropout_dense_block_one': 0.4400070462518233, 'dropout_dense_block_two': 0.3994465682789889}\n",
            "accuracy=0.9492063522338867\n",
            "{'batch_size': 160.0, 'dropout_cnn_block_one': 0.3004057749438827, 'dropout_cnn_block_three': 0.37789621296569464, 'dropout_cnn_block_two': 0.47094079356918533, 'dropout_dense_block_one': 0.39364519955951405, 'dropout_dense_block_two': 0.34073187527323257}\n",
            "accuracy=0.9510204195976257\n",
            "{'batch_size': 160.0, 'dropout_cnn_block_one': 0.3334329294607081, 'dropout_cnn_block_three': 0.44396596912980907, 'dropout_cnn_block_two': 0.31322968947633834, 'dropout_dense_block_one': 0.33785548346413513, 'dropout_dense_block_two': 0.693023741274493}\n",
            "accuracy=0.9712018370628357\n",
            "100%|██████████| 30/30 [05:24<00:00, 10.81s/it, best loss: -0.9712018370628357]\n"
          ],
          "name": "stdout"
        }
      ]
    },
    {
      "cell_type": "code",
      "metadata": {
        "id": "5404p1rUTEz8",
        "colab_type": "code",
        "colab": {
          "base_uri": "https://localhost:8080/",
          "height": 146
        },
        "outputId": "22c9fed3-5bf2-4a4f-86a7-f10148665efc"
      },
      "source": [
        "space = {\n",
        "    'batch_size': hp.quniform('batch_size', 50,200,20),\n",
        "    'dropout_cnn_block_one': 0.5,#hp.uniform('dropout_cnn_block_one', 0,1),\n",
        "    'dropout_cnn_block_two': 0.5,#hp.uniform('dropout_cnn_block_two', 0,1),\n",
        "    'dropout_cnn_block_three': 0.5,#hp.uniform('dropout_cnn_block_three', 0,1),\n",
        "\n",
        "    'dropout_dense_block_one': 0.5,#hp.uniform('dropout_dense_block_one', 0,1),\n",
        "    'dropout_dense_block_two': 0.5,#hp.uniform('dropout_dense_block_two', 0,1),\n",
        "}\n",
        "\n",
        "best = fmin(\n",
        "    func_obj,\n",
        "    space,\n",
        "    tpe.suggest,\n",
        "    30,\n",
        "    Trials()\n",
        ")"
      ],
      "execution_count": 14,
      "outputs": [
        {
          "output_type": "error",
          "ename": "SyntaxError",
          "evalue": "ignored",
          "traceback": [
            "\u001b[0;36m  File \u001b[0;32m\"<ipython-input-15-5413b8389ca9>\"\u001b[0;36m, line \u001b[0;32m4\u001b[0m\n\u001b[0;31m    'dropout_cnn_block_two': 0.5#hp.uniform('dropout_cnn_block_two', 0,1),\u001b[0m\n\u001b[0m                          ^\u001b[0m\n\u001b[0;31mSyntaxError\u001b[0m\u001b[0;31m:\u001b[0m invalid syntax\n"
          ]
        },
        {
          "output_type": "stream",
          "text": [
            "ERROR! Session/line number was not unique in database. History logging moved to new session 59\n"
          ],
          "name": "stdout"
        }
      ]
    },
    {
      "cell_type": "code",
      "metadata": {
        "id": "8C_WtIxIKtHh",
        "colab_type": "code",
        "colab": {}
      },
      "source": [
        ""
      ],
      "execution_count": 0,
      "outputs": []
    }
  ]
}