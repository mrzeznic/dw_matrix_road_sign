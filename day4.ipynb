{
  "nbformat": 4,
  "nbformat_minor": 0,
  "metadata": {
    "colab": {
      "name": "day4.ipynb",
      "provenance": [],
      "collapsed_sections": [],
      "mount_file_id": "12-3ac8R5WcCw9D0t9mAGmVsH54lFiXuv",
      "authorship_tag": "ABX9TyMd6/nIyd1P/z8jpcALv3MF"
    },
    "kernelspec": {
      "name": "python3",
      "display_name": "Python 3"
    },
    "accelerator": "GPU"
  },
  "cells": [
    {
      "cell_type": "code",
      "metadata": {
        "id": "feF9RaLAL9eb",
        "colab_type": "code",
        "outputId": "bde5f572-3c00-4488-c56c-9720870433d0",
        "colab": {
          "base_uri": "https://localhost:8080/",
          "height": 51
        }
      },
      "source": [
        "import pandas as pd\n",
        "import numpy as np\n",
        "import os\n",
        "import datetime\n",
        "\n",
        "\n",
        "import tensorflow as tf\n",
        "from tensorflow.keras.models import Sequential\n",
        "from tensorflow.keras.layers import Conv2D, MaxPool2D, Dense, Flatten, Dropout\n",
        "from tensorflow.keras.utils import to_categorical\n",
        "\n",
        "%load_ext tensorboard\n",
        "\n",
        "import matplotlib.pyplot as plt\n",
        "from skimage import color, exposure\n",
        "from sklearn.metrics import accuracy_score"
      ],
      "execution_count": 0,
      "outputs": [
        {
          "output_type": "stream",
          "text": [
            "The tensorboard extension is already loaded. To reload it, use:\n",
            "  %reload_ext tensorboard\n"
          ],
          "name": "stdout"
        }
      ]
    },
    {
      "cell_type": "code",
      "metadata": {
        "id": "UPy9bPWITY_6",
        "colab_type": "code",
        "outputId": "0d46566a-ecfa-4694-c031-51be97256c6a",
        "colab": {
          "base_uri": "https://localhost:8080/",
          "height": 34
        }
      },
      "source": [
        "cd '/content/drive/My Drive/Colab Notebooks/matrix/matrix_three/dw_matrix_road_sign'"
      ],
      "execution_count": 0,
      "outputs": [
        {
          "output_type": "stream",
          "text": [
            "/content/drive/My Drive/Colab Notebooks/matrix/matrix_three/dw_matrix_road_sign\n"
          ],
          "name": "stdout"
        }
      ]
    },
    {
      "cell_type": "code",
      "metadata": {
        "id": "qoQ82dI4W9Q6",
        "colab_type": "code",
        "colab": {}
      },
      "source": [
        "train = pd.read_pickle('data/train.p')\n",
        "test = pd.read_pickle('data/test.p')\n",
        "\n",
        "X_train, y_train = train['features'], train['labels']\n",
        "X_test, y_test = test['features'], test['labels']"
      ],
      "execution_count": 0,
      "outputs": []
    },
    {
      "cell_type": "code",
      "metadata": {
        "id": "lc5HbWaemQ2h",
        "colab_type": "code",
        "outputId": "d809b647-cfa8-43df-bf33-f724e02a1e78",
        "colab": {
          "base_uri": "https://localhost:8080/",
          "height": 34
        }
      },
      "source": [
        "y_train"
      ],
      "execution_count": 0,
      "outputs": [
        {
          "output_type": "execute_result",
          "data": {
            "text/plain": [
              "array([41, 41, 41, ..., 25, 25, 25], dtype=uint8)"
            ]
          },
          "metadata": {
            "tags": []
          },
          "execution_count": 37
        }
      ]
    },
    {
      "cell_type": "code",
      "metadata": {
        "id": "oJKLLooLXrrv",
        "colab_type": "code",
        "outputId": "9c434581-760f-4c72-fa32-176b9f2118c6",
        "colab": {
          "base_uri": "https://localhost:8080/",
          "height": 34
        }
      },
      "source": [
        "len(np.unique(y_train))"
      ],
      "execution_count": 0,
      "outputs": [
        {
          "output_type": "execute_result",
          "data": {
            "text/plain": [
              "43"
            ]
          },
          "metadata": {
            "tags": []
          },
          "execution_count": 38
        }
      ]
    },
    {
      "cell_type": "code",
      "metadata": {
        "id": "B_zv70PKYuAA",
        "colab_type": "code",
        "colab": {}
      },
      "source": [
        "if y_train.ndim == 1: y_train = to_categorical(y_train)\n",
        "if y_test.ndim == 1: y_test = to_categorical(y_test)"
      ],
      "execution_count": 0,
      "outputs": []
    },
    {
      "cell_type": "code",
      "metadata": {
        "id": "KYiLFCbIY57s",
        "colab_type": "code",
        "colab": {}
      },
      "source": [
        "input_shape = X_train.shape[1:]\n",
        "num_classes = y_train.shape[1]"
      ],
      "execution_count": 0,
      "outputs": []
    },
    {
      "cell_type": "code",
      "metadata": {
        "id": "flRdZtyFZDIL",
        "colab_type": "code",
        "outputId": "6af01f81-81b5-43ca-93a9-2c363f96136c",
        "colab": {
          "base_uri": "https://localhost:8080/",
          "height": 51
        }
      },
      "source": [
        "model = Sequential([\n",
        "  Conv2D(filters = 64, kernel_size=(3,3), activation='relu', input_shape=input_shape),\n",
        "\n",
        "  Flatten(),\n",
        "\n",
        "  Dense(num_classes, activation='softmax')\n",
        "])\n",
        "\n",
        "#model.summary()\n",
        "\n",
        "model.compile(loss='categorical_crossentropy', optimizer='Adam', metrics=['accuracy'])\n",
        "model.fit(X_train, y_train)"
      ],
      "execution_count": 0,
      "outputs": [
        {
          "output_type": "stream",
          "text": [
            "1088/1088 [==============================] - 8s 7ms/step - loss: 13.2662 - accuracy: 0.7570\n"
          ],
          "name": "stdout"
        },
        {
          "output_type": "execute_result",
          "data": {
            "text/plain": [
              "<tensorflow.python.keras.callbacks.History at 0x7fe99f258ac8>"
            ]
          },
          "metadata": {
            "tags": []
          },
          "execution_count": 41
        }
      ]
    },
    {
      "cell_type": "code",
      "metadata": {
        "id": "e7OtAnKTZg4C",
        "colab_type": "code",
        "colab": {}
      },
      "source": [
        " def get_cnn_v1(input_shape, num_classes):\n",
        "  return Sequential([\n",
        "  Conv2D(filters = 32, kernel_size=(3,3), activation='relu', input_shape=input_shape),\n",
        "\n",
        "  Flatten(),\n",
        "\n",
        "  Dense(num_classes, activation='softmax')\n",
        "])\n",
        "  \n",
        "def train_model(model, X_train, y_train, params_fit={}):\n",
        "  model.compile(loss='categorical_crossentropy', optimizer='Adam', metrics=['accuracy'])\n",
        "  \n",
        "  logdir = os.path.join(\"logs\", datetime.datetime.now().strftime(\"%Y%m%d-%H%M%S\"))\n",
        "  tensorboard_callback = tf.keras.callbacks.TensorBoard(logdir, histogram_freq=1)\n",
        "\n",
        "  model.fit(\n",
        "      X_train,\n",
        "      y_train,\n",
        "      batch_size=params_fit.get('batch_size, 128'),\n",
        "      epochs=params_fit.get('epochs',5),\n",
        "      verbose=params_fit.get('verbose', 1),\n",
        "      validation_data=params_fit.get('validation_data', (X_train, y_train)),\n",
        "      callbacks=[tensorboard_callback]\n",
        "    )\n",
        "  \n",
        "  return model"
      ],
      "execution_count": 0,
      "outputs": []
    },
    {
      "cell_type": "code",
      "metadata": {
        "id": "jnKKPw6xZtyN",
        "colab_type": "code",
        "outputId": "95a2eb61-7e92-4dd0-9ae6-cc431a15dedb",
        "colab": {
          "base_uri": "https://localhost:8080/",
          "height": 207
        }
      },
      "source": [
        "model = get_cnn_v1(input_shape, num_classes)\n",
        "model_trained = train_model(model, X_train, y_train)"
      ],
      "execution_count": 0,
      "outputs": [
        {
          "output_type": "stream",
          "text": [
            "Epoch 1/5\n",
            "1088/1088 [==============================] - 11s 10ms/step - loss: 8.0460 - accuracy: 0.7628 - val_loss: 0.3560 - val_accuracy: 0.9164\n",
            "Epoch 2/5\n",
            "1088/1088 [==============================] - 10s 10ms/step - loss: 0.3426 - accuracy: 0.9263 - val_loss: 0.1917 - val_accuracy: 0.9558\n",
            "Epoch 3/5\n",
            "1088/1088 [==============================] - 10s 10ms/step - loss: 0.3172 - accuracy: 0.9346 - val_loss: 0.2068 - val_accuracy: 0.9541\n",
            "Epoch 4/5\n",
            "1088/1088 [==============================] - 10s 10ms/step - loss: 0.2836 - accuracy: 0.9437 - val_loss: 0.2062 - val_accuracy: 0.9609\n",
            "Epoch 5/5\n",
            "1088/1088 [==============================] - 10s 10ms/step - loss: 0.2526 - accuracy: 0.9508 - val_loss: 0.1927 - val_accuracy: 0.9636\n"
          ],
          "name": "stdout"
        }
      ]
    },
    {
      "cell_type": "code",
      "metadata": {
        "id": "DqzYKzTdopJH",
        "colab_type": "code",
        "colab": {}
      },
      "source": [
        "df = pd.read_csv('data/signnames.csv')\n",
        "labels_dict = df.to_dict()['b']"
      ],
      "execution_count": 0,
      "outputs": []
    },
    {
      "cell_type": "code",
      "metadata": {
        "id": "MrK1PAe6emEz",
        "colab_type": "code",
        "colab": {}
      },
      "source": [
        "def predict(model_trained, X_test, y_test, scoring=accuracy_score):\n",
        "\n",
        "\n",
        "  y_test_norm = np.argmax(y_test, axis=1)\n",
        "\n",
        "  y_pred_prob = model_trained.predict(X_test)\n",
        "  y_pred = np.argmax(y_pred_prob, axis=1)\n",
        "\n",
        "  return scoring(y_test_norm, y_pred)"
      ],
      "execution_count": 0,
      "outputs": []
    },
    {
      "cell_type": "code",
      "metadata": {
        "id": "gc_Lwt5yrrW9",
        "colab_type": "code",
        "outputId": "bd6a7521-4bf8-4451-9606-914c3471f7da",
        "colab": {
          "base_uri": "https://localhost:8080/",
          "height": 34
        }
      },
      "source": [
        "predict(model_trained, X_test, y_test)"
      ],
      "execution_count": 0,
      "outputs": [
        {
          "output_type": "execute_result",
          "data": {
            "text/plain": [
              "0.8170068027210884"
            ]
          },
          "metadata": {
            "tags": []
          },
          "execution_count": 48
        }
      ]
    },
    {
      "cell_type": "code",
      "metadata": {
        "id": "nu4Rg_X0s_vJ",
        "colab_type": "code",
        "colab": {}
      },
      "source": [
        "def train_and_predict(model):\n",
        "  model_trained = train_model(model, X_train, y_train)\n",
        "  return predict(model_trained, X_test, y_test)"
      ],
      "execution_count": 0,
      "outputs": []
    },
    {
      "cell_type": "code",
      "metadata": {
        "id": "JYpg0sqSsMWC",
        "colab_type": "code",
        "outputId": "9af161c4-0533-49d1-fbcf-33b320d03c2c",
        "colab": {
          "base_uri": "https://localhost:8080/",
          "height": 224
        }
      },
      "source": [
        " def get_cnn_v2(input_shape, num_classes):\n",
        "  return Sequential([\n",
        "    Conv2D(filters = 32, kernel_size=(3,3), activation='relu', input_shape=input_shape),\n",
        "    MaxPool2D(),\n",
        "    Dropout(0.3),\n",
        "\n",
        "    Conv2D(filters = 64, kernel_size=(3,3), activation='relu'),\n",
        "    MaxPool2D(),\n",
        "    Dropout(0.3),\n",
        "\n",
        "    Flatten(),\n",
        "\n",
        "    Dense(1024, activation='relu'),\n",
        "    Dropout(0.3),\n",
        "\n",
        "    Dense(num_classes, activation='softmax')\n",
        "  ])\n",
        "\n",
        "\n",
        "\n",
        "train_and_predict(get_cnn_v2(input_shape, num_classes))"
      ],
      "execution_count": 0,
      "outputs": [
        {
          "output_type": "stream",
          "text": [
            "Epoch 1/5\n",
            "1088/1088 [==============================] - 15s 13ms/step - loss: 2.8145 - accuracy: 0.4955 - val_loss: 0.4873 - val_accuracy: 0.8627\n",
            "Epoch 2/5\n",
            "1088/1088 [==============================] - 14s 13ms/step - loss: 0.6039 - accuracy: 0.8263 - val_loss: 0.1846 - val_accuracy: 0.9542\n",
            "Epoch 3/5\n",
            "1088/1088 [==============================] - 14s 13ms/step - loss: 0.4200 - accuracy: 0.8813 - val_loss: 0.1160 - val_accuracy: 0.9650\n",
            "Epoch 4/5\n",
            "1088/1088 [==============================] - 14s 13ms/step - loss: 0.3567 - accuracy: 0.8996 - val_loss: 0.1505 - val_accuracy: 0.9551\n",
            "Epoch 5/5\n",
            "1088/1088 [==============================] - 14s 13ms/step - loss: 0.3466 - accuracy: 0.9059 - val_loss: 0.0838 - val_accuracy: 0.9757\n"
          ],
          "name": "stdout"
        },
        {
          "output_type": "execute_result",
          "data": {
            "text/plain": [
              "0.9111111111111111"
            ]
          },
          "metadata": {
            "tags": []
          },
          "execution_count": 50
        }
      ]
    },
    {
      "cell_type": "code",
      "metadata": {
        "id": "adDVqdJ_5s93",
        "colab_type": "code",
        "outputId": "c8a22651-3b53-435c-ecf4-a4b33eaef1ae",
        "colab": {
          "base_uri": "https://localhost:8080/",
          "height": 224
        }
      },
      "source": [
        " def get_cnn_v3(input_shape, num_classes):\n",
        "  return Sequential([\n",
        "    Conv2D(filters = 32, kernel_size=(3,3), activation='relu', input_shape=input_shape),\n",
        "    Conv2D(filters = 32, kernel_size=(3,3), activation='relu'),\n",
        "    MaxPool2D(),\n",
        "    Dropout(0.3),\n",
        "\n",
        "    Conv2D(filters = 64, kernel_size=(3,3), activation='relu'),\n",
        "    Conv2D(filters = 64, kernel_size=(3,3), activation='relu'),\n",
        "    MaxPool2D(),\n",
        "    Dropout(0.3),\n",
        "\n",
        "    Flatten(),\n",
        "\n",
        "    Dense(1024, activation='relu'),\n",
        "    Dropout(0.3),\n",
        "\n",
        "    Dense(num_classes, activation='softmax')\n",
        "  ])\n",
        "\n",
        "\n",
        "\n",
        "train_and_predict(get_cnn_v3(input_shape, num_classes))"
      ],
      "execution_count": 0,
      "outputs": [
        {
          "output_type": "stream",
          "text": [
            "Epoch 1/5\n",
            "1088/1088 [==============================] - 19s 17ms/step - loss: 1.1063 - accuracy: 0.7142 - val_loss: 0.1338 - val_accuracy: 0.9697\n",
            "Epoch 2/5\n",
            "1088/1088 [==============================] - 18s 17ms/step - loss: 0.2760 - accuracy: 0.9183 - val_loss: 0.0857 - val_accuracy: 0.9740\n",
            "Epoch 3/5\n",
            "1088/1088 [==============================] - 19s 17ms/step - loss: 0.2019 - accuracy: 0.9432 - val_loss: 0.0338 - val_accuracy: 0.9913\n",
            "Epoch 4/5\n",
            "1088/1088 [==============================] - 19s 17ms/step - loss: 0.1478 - accuracy: 0.9589 - val_loss: 0.0312 - val_accuracy: 0.9905\n",
            "Epoch 5/5\n",
            "1088/1088 [==============================] - 18s 17ms/step - loss: 0.1498 - accuracy: 0.9597 - val_loss: 0.0282 - val_accuracy: 0.9917\n"
          ],
          "name": "stdout"
        },
        {
          "output_type": "execute_result",
          "data": {
            "text/plain": [
              "0.9609977324263038"
            ]
          },
          "metadata": {
            "tags": []
          },
          "execution_count": 51
        }
      ]
    },
    {
      "cell_type": "code",
      "metadata": {
        "id": "ucYTE2iy8X6z",
        "colab_type": "code",
        "outputId": "747ec017-28a8-4c92-b84a-d4969d97102a",
        "colab": {
          "base_uri": "https://localhost:8080/",
          "height": 224
        }
      },
      "source": [
        " def get_cnn_v4(input_shape, num_classes):\n",
        "  return Sequential([\n",
        "    Conv2D(filters = 32, kernel_size=(3,3), activation='relu', input_shape=input_shape),\n",
        "    Conv2D(filters = 32, kernel_size=(3,3), activation='relu', padding='same'),\n",
        "    MaxPool2D(),\n",
        "    Dropout(0.3),\n",
        "\n",
        "    Conv2D(filters = 64, kernel_size=(3,3), activation='relu', padding='same'),\n",
        "    Conv2D(filters = 64, kernel_size=(3,3), activation='relu'),\n",
        "    MaxPool2D(),\n",
        "    Dropout(0.3),\n",
        "\n",
        "    Conv2D(filters = 64, kernel_size=(3,3), activation='relu', padding='same'),\n",
        "    Conv2D(filters = 64, kernel_size=(3,3), activation='relu'),\n",
        "    MaxPool2D(),\n",
        "    Dropout(0.3),\n",
        "\n",
        "    Flatten(),\n",
        "\n",
        "    Dense(1024, activation='relu'),\n",
        "    Dropout(0.3),\n",
        "\n",
        "    Dense(num_classes, activation='softmax')\n",
        "  ])\n",
        "\n",
        "\n",
        "#get_cnn_v4(input_shape, num_classes).summary()\n",
        "train_and_predict(get_cnn_v4(input_shape, num_classes))"
      ],
      "execution_count": 0,
      "outputs": [
        {
          "output_type": "stream",
          "text": [
            "Epoch 1/5\n",
            "1088/1088 [==============================] - 21s 20ms/step - loss: 1.9500 - accuracy: 0.4375 - val_loss: 0.4739 - val_accuracy: 0.8555\n",
            "Epoch 2/5\n",
            "1088/1088 [==============================] - 21s 20ms/step - loss: 0.5889 - accuracy: 0.8137 - val_loss: 0.1510 - val_accuracy: 0.9540\n",
            "Epoch 3/5\n",
            "1088/1088 [==============================] - 21s 19ms/step - loss: 0.3605 - accuracy: 0.8919 - val_loss: 0.0983 - val_accuracy: 0.9697\n",
            "Epoch 4/5\n",
            "1088/1088 [==============================] - 21s 19ms/step - loss: 0.2881 - accuracy: 0.9158 - val_loss: 0.0657 - val_accuracy: 0.9815\n",
            "Epoch 5/5\n",
            "1088/1088 [==============================] - 21s 19ms/step - loss: 0.2457 - accuracy: 0.9288 - val_loss: 0.0628 - val_accuracy: 0.9798\n"
          ],
          "name": "stdout"
        },
        {
          "output_type": "execute_result",
          "data": {
            "text/plain": [
              "0.9498866213151927"
            ]
          },
          "metadata": {
            "tags": []
          },
          "execution_count": 52
        }
      ]
    },
    {
      "cell_type": "code",
      "metadata": {
        "id": "8SYS31Ft_gsk",
        "colab_type": "code",
        "outputId": "053f3f65-e0d3-4165-ee05-8a0939665757",
        "colab": {
          "base_uri": "https://localhost:8080/",
          "height": 224
        }
      },
      "source": [
        " def get_cnn_v5(input_shape, num_classes):\n",
        "  return Sequential([\n",
        "    Conv2D(filters = 32, kernel_size=(3,3), activation='relu', input_shape=input_shape),\n",
        "    Conv2D(filters = 32, kernel_size=(3,3), activation='relu', padding='same'),\n",
        "    MaxPool2D(),\n",
        "    Dropout(0.3),\n",
        "\n",
        "    Conv2D(filters = 64, kernel_size=(3,3), activation='relu', padding='same'),\n",
        "    Conv2D(filters = 64, kernel_size=(3,3), activation='relu'),\n",
        "    MaxPool2D(),\n",
        "    Dropout(0.3),\n",
        "\n",
        "    Conv2D(filters = 64, kernel_size=(3,3), activation='relu', padding='same'),\n",
        "    Conv2D(filters = 64, kernel_size=(3,3), activation='relu'),\n",
        "    MaxPool2D(),\n",
        "    Dropout(0.3),\n",
        "\n",
        "    Flatten(),\n",
        "\n",
        "    Dense(1024, activation='relu'),\n",
        "    Dropout(0.3),\n",
        "\n",
        "    Dense(1024, activation='relu'),\n",
        "    Dropout(0.3),\n",
        "\n",
        "    Dense(num_classes, activation='softmax')\n",
        "  ])\n",
        "\n",
        "\n",
        "#get_cnn_v4(input_shape, num_classes).summary()\n",
        "train_and_predict(get_cnn_v5(input_shape, num_classes))"
      ],
      "execution_count": 0,
      "outputs": [
        {
          "output_type": "stream",
          "text": [
            "Epoch 1/5\n",
            "1088/1088 [==============================] - 23s 21ms/step - loss: 1.5970 - accuracy: 0.5401 - val_loss: 0.2784 - val_accuracy: 0.9132\n",
            "Epoch 2/5\n",
            "1088/1088 [==============================] - 23s 21ms/step - loss: 0.4512 - accuracy: 0.8657 - val_loss: 0.1247 - val_accuracy: 0.9626\n",
            "Epoch 3/5\n",
            "1088/1088 [==============================] - 23s 21ms/step - loss: 0.3240 - accuracy: 0.9064 - val_loss: 0.0867 - val_accuracy: 0.9744\n",
            "Epoch 4/5\n",
            "1088/1088 [==============================] - 23s 21ms/step - loss: 0.2799 - accuracy: 0.9224 - val_loss: 0.0773 - val_accuracy: 0.9789\n",
            "Epoch 5/5\n",
            "1088/1088 [==============================] - 23s 21ms/step - loss: 0.2671 - accuracy: 0.9294 - val_loss: 0.0626 - val_accuracy: 0.9819\n"
          ],
          "name": "stdout"
        },
        {
          "output_type": "execute_result",
          "data": {
            "text/plain": [
              "0.9709750566893424"
            ]
          },
          "metadata": {
            "tags": []
          },
          "execution_count": 53
        }
      ]
    },
    {
      "cell_type": "code",
      "metadata": {
        "id": "572KqJAc_5rg",
        "colab_type": "code",
        "colab": {}
      },
      "source": [
        "X_train_gray = color.rgb2gray(X_train).reshape(-1,32,32,1)\n",
        "X_test_gray = color.rgb2gray(X_test).reshape(-1,32,32,1)"
      ],
      "execution_count": 0,
      "outputs": []
    },
    {
      "cell_type": "code",
      "metadata": {
        "id": "ux7XhxYJBTwn",
        "colab_type": "code",
        "outputId": "a913142c-3b2c-44b2-a235-d60b87c3e394",
        "colab": {
          "base_uri": "https://localhost:8080/",
          "height": 224
        }
      },
      "source": [
        "model = get_cnn_v5((32,32,1), num_classes)\n",
        "model_trained = train_model(model, X_train_gray, y_train, params_fit={})\n",
        "predict(model_trained, X_test_gray, y_test)"
      ],
      "execution_count": 0,
      "outputs": [
        {
          "output_type": "stream",
          "text": [
            "Epoch 1/5\n",
            "1088/1088 [==============================] - 23s 21ms/step - loss: 1.5761 - accuracy: 0.5382 - val_loss: 0.2725 - val_accuracy: 0.9163\n",
            "Epoch 2/5\n",
            "1088/1088 [==============================] - 23s 21ms/step - loss: 0.3316 - accuracy: 0.8961 - val_loss: 0.0706 - val_accuracy: 0.9782\n",
            "Epoch 3/5\n",
            "1088/1088 [==============================] - 23s 21ms/step - loss: 0.2034 - accuracy: 0.9367 - val_loss: 0.0576 - val_accuracy: 0.9811\n",
            "Epoch 4/5\n",
            "1088/1088 [==============================] - 23s 21ms/step - loss: 0.1664 - accuracy: 0.9504 - val_loss: 0.0654 - val_accuracy: 0.9791\n",
            "Epoch 5/5\n",
            "1088/1088 [==============================] - 23s 21ms/step - loss: 0.1455 - accuracy: 0.9566 - val_loss: 0.0309 - val_accuracy: 0.9916\n"
          ],
          "name": "stdout"
        },
        {
          "output_type": "execute_result",
          "data": {
            "text/plain": [
              "0.9714285714285714"
            ]
          },
          "metadata": {
            "tags": []
          },
          "execution_count": 61
        }
      ]
    },
    {
      "cell_type": "code",
      "metadata": {
        "id": "Lp5HiG2__6sw",
        "colab_type": "code",
        "outputId": "c15f4d87-5a57-4cbf-91bb-cc2cfbda7467",
        "colab": {
          "base_uri": "https://localhost:8080/",
          "height": 283
        }
      },
      "source": [
        "plt.imshow(color.rgb2gray(X_train[0]), cmap=plt.get_cmap('gray'))"
      ],
      "execution_count": 0,
      "outputs": [
        {
          "output_type": "execute_result",
          "data": {
            "text/plain": [
              "<matplotlib.image.AxesImage at 0x7fe99b6fe748>"
            ]
          },
          "metadata": {
            "tags": []
          },
          "execution_count": 56
        },
        {
          "output_type": "display_data",
          "data": {
            "image/png": "[encoded data removed]",
            "text/plain": [
              "<Figure size 432x288 with 1 Axes>"
            ]
          },
          "metadata": {
            "tags": []
          }
        }
      ]
    },
    {
      "cell_type": "code",
      "metadata": {
        "id": "fzVOoalo_61E",
        "colab_type": "code",
        "colab": {}
      },
      "source": [
        "def preproc_img(img):\n",
        "  hsv = color.rgb2hsv(img)\n",
        "  hsv[:,:,2] = exposure.equalize_adapthist(hsv[:,:,2])\n",
        "  img = color.hsv2rgb(hsv)\n",
        "\n",
        "  return img"
      ],
      "execution_count": 0,
      "outputs": []
    },
    {
      "cell_type": "code",
      "metadata": {
        "id": "_S4E3xnsEa97",
        "colab_type": "code",
        "outputId": "1c4a7b46-3927-459a-cd17-36626957ff34",
        "colab": {
          "base_uri": "https://localhost:8080/",
          "height": 283
        }
      },
      "source": [
        "plt.imshow(X_train[400])"
      ],
      "execution_count": 0,
      "outputs": [
        {
          "output_type": "execute_result",
          "data": {
            "text/plain": [
              "<matplotlib.image.AxesImage at 0x7fe9a0bd4860>"
            ]
          },
          "metadata": {
            "tags": []
          },
          "execution_count": 64
        },
        {
          "output_type": "display_data",
          "data": {
            "image/png": "[encoded data removed]",
            "text/plain": [
              "<Figure size 432x288 with 1 Axes>"
            ]
          },
          "metadata": {
            "tags": []
          }
        }
      ]
    },
    {
      "cell_type": "code",
      "metadata": {
        "id": "4hBQirwNENyb",
        "colab_type": "code",
        "outputId": "6a897fc5-8ce4-4fab-e297-dfa7bbc10fcb",
        "colab": {
          "base_uri": "https://localhost:8080/",
          "height": 283
        }
      },
      "source": [
        "plt.imshow(preproc_img(X_train[400]))"
      ],
      "execution_count": 0,
      "outputs": [
        {
          "output_type": "execute_result",
          "data": {
            "text/plain": [
              "<matplotlib.image.AxesImage at 0x7fe99c4e7400>"
            ]
          },
          "metadata": {
            "tags": []
          },
          "execution_count": 63
        },
        {
          "output_type": "display_data",
          "data": {
            "image/png": "[encoded data removed]",
            "text/plain": [
              "<Figure size 432x288 with 1 Axes>"
            ]
          },
          "metadata": {
            "tags": []
          }
        }
      ]
    },
    {
      "cell_type": "code",
      "metadata": {
        "id": "jfbq-FfYErNM",
        "colab_type": "code",
        "colab": {}
      },
      "source": [
        "X_train_prp = X_train.copy().astype(np.float32)\n",
        "X_test_prp = X_test.copy().astype(np.float32)\n",
        "\n",
        "for i in tqdm(range(X_train.shape[0])):\n",
        "  X_train_prp[i] = preproc_img(X_train[i])"
      ],
      "execution_count": 0,
      "outputs": []
    },
    {
      "cell_type": "code",
      "metadata": {
        "id": "n0pVVKALpJic",
        "colab_type": "code",
        "outputId": "e3a9bbb2-fb53-43c2-9c33-1ccdbc35656a",
        "colab": {
          "base_uri": "https://localhost:8080/",
          "height": 163
        }
      },
      "source": [
        "plt.bar(range(43),y_pred_prob[400])"
      ],
      "execution_count": 0,
      "outputs": [
        {
          "output_type": "error",
          "ename": "NameError",
          "evalue": "ignored",
          "traceback": [
            "\u001b[0;31m---------------------------------------------------------------------------\u001b[0m",
            "\u001b[0;31mNameError\u001b[0m                                 Traceback (most recent call last)",
            "\u001b[0;32m<ipython-input-17-2909c13c12b8>\u001b[0m in \u001b[0;36m<module>\u001b[0;34m()\u001b[0m\n\u001b[0;32m----> 1\u001b[0;31m \u001b[0mplt\u001b[0m\u001b[0;34m.\u001b[0m\u001b[0mbar\u001b[0m\u001b[0;34m(\u001b[0m\u001b[0mrange\u001b[0m\u001b[0;34m(\u001b[0m\u001b[0;36m43\u001b[0m\u001b[0;34m)\u001b[0m\u001b[0;34m,\u001b[0m\u001b[0my_pred_prob\u001b[0m\u001b[0;34m[\u001b[0m\u001b[0;36m400\u001b[0m\u001b[0;34m]\u001b[0m\u001b[0;34m)\u001b[0m\u001b[0;34m\u001b[0m\u001b[0;34m\u001b[0m\u001b[0m\n\u001b[0m",
            "\u001b[0;31mNameError\u001b[0m: name 'y_pred_prob' is not defined"
          ]
        }
      ]
    },
    {
      "cell_type": "code",
      "metadata": {
        "id": "wQwMzXRfi6tg",
        "colab_type": "code",
        "outputId": "d3cf268e-3739-4c41-fc18-30690bd9a765",
        "colab": {
          "base_uri": "https://localhost:8080/",
          "height": 34
        }
      },
      "source": [
        "np.argmax(y_pred_prob[400])"
      ],
      "execution_count": 0,
      "outputs": [
        {
          "output_type": "execute_result",
          "data": {
            "text/plain": [
              "1"
            ]
          },
          "metadata": {
            "tags": []
          },
          "execution_count": 37
        }
      ]
    },
    {
      "cell_type": "code",
      "metadata": {
        "id": "6XXA0QRIosFo",
        "colab_type": "code",
        "outputId": "619ea0a8-80f5-4800-a161-5a4ec79cc5a6",
        "colab": {
          "base_uri": "https://localhost:8080/",
          "height": 34
        }
      },
      "source": [
        "labels_dict[np.argmax(y_pred_prob[400])]"
      ],
      "execution_count": 0,
      "outputs": [
        {
          "output_type": "execute_result",
          "data": {
            "text/plain": [
              "'Speed limit (30km/h)'"
            ]
          },
          "metadata": {
            "tags": []
          },
          "execution_count": 42
        }
      ]
    },
    {
      "cell_type": "code",
      "metadata": {
        "id": "-MwEc07apboK",
        "colab_type": "code",
        "outputId": "1c690385-da2c-400a-f978-30d09aeda024",
        "colab": {
          "base_uri": "https://localhost:8080/",
          "height": 34
        }
      },
      "source": [
        "labels_dict[1]"
      ],
      "execution_count": 0,
      "outputs": [
        {
          "output_type": "execute_result",
          "data": {
            "text/plain": [
              "'Speed limit (30km/h)'"
            ]
          },
          "metadata": {
            "tags": []
          },
          "execution_count": 45
        }
      ]
    },
    {
      "cell_type": "code",
      "metadata": {
        "id": "W1KxrYI-fZjn",
        "colab_type": "code",
        "outputId": "696097ef-da2d-49d6-a8dd-e2a200a2dbe0",
        "colab": {
          "base_uri": "https://localhost:8080/",
          "height": 283
        }
      },
      "source": [
        "plt.imshow(X_test[100])"
      ],
      "execution_count": 0,
      "outputs": [
        {
          "output_type": "execute_result",
          "data": {
            "text/plain": [
              "<matplotlib.image.AxesImage at 0x7f794066a6a0>"
            ]
          },
          "metadata": {
            "tags": []
          },
          "execution_count": 38
        },
        {
          "output_type": "display_data",
          "data": {
            "image/png": "[encoded data removed]",
            "text/plain": [
              "<Figure size 432x288 with 1 Axes>"
            ]
          },
          "metadata": {
            "tags": []
          }
        }
      ]
    },
    {
      "cell_type": "code",
      "metadata": {
        "id": "vI8tVVg0hHAh",
        "colab_type": "code",
        "colab": {}
      },
      "source": [
        ""
      ],
      "execution_count": 0,
      "outputs": []
    },
    {
      "cell_type": "code",
      "metadata": {
        "id": "R3K4R43Ait0s",
        "colab_type": "code",
        "colab": {}
      },
      "source": [
        "--19:15"
      ],
      "execution_count": 0,
      "outputs": []
    }
  ]
}